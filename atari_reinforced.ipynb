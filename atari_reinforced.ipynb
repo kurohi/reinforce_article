{
 "cells": [
  {
   "cell_type": "markdown",
   "metadata": {},
   "source": [
    "# Playing atari games like a pro\n",
    "\n",
    "Ever got frustaded for your lack of coordination when it comes to pressing button and breathing at the same time?\n",
    "\n",
    "(image of discordinated human) YES!!!!\n",
    "\n",
    "So this article is for you! With the help of deep learning lets help our laziness to make the computer play a game for us while we focus on breathing watching bogo cat play its songs.\n",
    "\n",
    "(image of bongo cat)\n",
    "\n",
    "## Requirement for this article\n",
    "\n",
    "This time we will not go through all the basics of neuro networks. So make sure that you know at least some basics of deep learning, convolution layers and quantum physics.\n",
    "\n",
    "Also we will be using **pytorch** for runing and trainig our models. So knowing a bit about **pytorch** also helps.\n",
    "\n",
    "## Deep reinforcement learning?\n",
    "\n",
    "You probably head about the most common types of machine learning: supervised and unsupervised. There is a third category of learning named reinforcement learning. So how does these three brothers differs from each other?\n",
    "\n",
    "#### Supervised learning\n",
    "\n",
    "This is the most common kind of machine learning. In this type the model has access to both the question (input) and the answer (output). It then can make a guess about the input and calculate how much it missed from the real output. Then use this difference to update its weights.\n",
    "\n",
    "This type of learning is really good too use in object recognition.\n",
    "\n",
    "(image of classifier)\n",
    "\n",
    "#### Unsupervised learning\n",
    "\n",
    "In this case the model has no access to the answers to the question. E.g it only has the input data but not the output. So the machine will try to model the input by understanding the differences and similarities between them. \n",
    "\n",
    "This type of learning can be used for clustering or even audio/video synthesis.\n",
    "\n",
    "(image of GAN)\n",
    "\n",
    "#### Reinforcement learning\n",
    "\n",
    "Now this less used type of learning has some peculiarities. First it can interact with the environment by a set of actions and then observes how its actions changes the environment (also called state).\n",
    "\n",
    "This type of AI has the objective to maximize the rewards it gets from the environment. Using games as an exemple, the score can be a reward, so the machine will try to learn what kind of actions are the best to use in each possible state so that it can achieve the maximum amount of rewards.\n",
    "\n",
    "Like in this article, this type of learning can be used to play games. But on a more useful note, it can be used to teach robots to move on a most efficient way or even teach self-driving cars to drive as safe as possible.\n",
    "\n",
    "(image of robots high fiveing each other)\n",
    "\n",
    "##### Some terms\n",
    "\n",
    "Reinforcement lerning has some special terms that are not used by the other forms of learning:\n",
    "- **Agent**: The individual who interacts with the world. For example, the robot who can brag stuff on a table or the character on a game.\n",
    "- **Action**: How the agent interact with the envirounment. For example, the robot has the possible actions of moving left, right, opening and closing its claw.\n",
    "- **State**: How the envirounment looks like. Most of the time the agent has not access to the all possible states at once.\n",
    "- **Reward**: It can come as a positive reward or as a negative reward (also called punishiment). The rules for how the reward is given depends on the envirounment.\n",
    "\n",
    "### Where the \"deep\" comes from\n",
    "\n",
    "Like with deep neural networks for supervised learning, when we say deep reinforcement learning, what we mean is that we will use a deep neural network to model what are the best actions to choose depending on the state the evironment is now. \n",
    "\n",
    "...and it sounds cooler.\n",
    "\n",
    "\n",
    "## OpenAI gym\n",
    "\n",
    "OpenAI is a non-profit AI research company that provide us with a bunch of cool tool to train reiforcement leaning models. These are normaly small games with an easy interface for rendering and action input. \n",
    "We could use an emulator to be able to run any game we can want, however in this article we want to focus on the model training part so we will be using the OpenAI gym libraries to create and interact with our games.\n",
    "\n",
    "Installing the library is pretty straighforward. Just run **pip install gym** or **pip install --user gym** to keep the library local, and if you are using Gentoo, you need to add that **--user**\n",
    "\n",
    "Here lets try to import and play our game with random actions for now.\n"
   ]
  },
  {
   "cell_type": "code",
   "execution_count": 16,
   "metadata": {},
   "outputs": [],
   "source": [
    "#importing the necessary libraries\n",
    "import gym\n",
    "import numpy as np\n",
    "import matplotlib.pyplot as plt\n",
    "import matplotlib.animation as animation\n",
    "%matplotlib inline"
   ]
  },
  {
   "cell_type": "code",
   "execution_count": 5,
   "metadata": {},
   "outputs": [],
   "source": [
    "env = gym.make('Skiing-v0')"
   ]
  },
  {
   "cell_type": "markdown",
   "metadata": {},
   "source": [
    "With this we have the environment loaded. We can now check what is sent to us from the envirounment as output and what actions we can give to the agent."
   ]
  },
  {
   "cell_type": "code",
   "execution_count": 7,
   "metadata": {},
   "outputs": [
    {
     "data": {
      "text/plain": [
       "Discrete(3)"
      ]
     },
     "execution_count": 7,
     "metadata": {},
     "output_type": "execute_result"
    }
   ],
   "source": [
    "env.action_space"
   ]
  },
  {
   "cell_type": "markdown",
   "metadata": {},
   "source": [
    "As we can see, this envirounment allow the agent to do 3 diffenrent discrete actions: 0,1 and 2. This implies that our network will need 3 neurons so we can model these actions."
   ]
  },
  {
   "cell_type": "code",
   "execution_count": 12,
   "metadata": {},
   "outputs": [
    {
     "name": "stdout",
     "output_type": "stream",
     "text": [
      "(250, 160, 3)\n"
     ]
    },
    {
     "data": {
      "image/png": "[encoded data removed]",
      "text/plain": [
       "<Figure size 432x288 with 1 Axes>"
      ]
     },
     "metadata": {},
     "output_type": "display_data"
    }
   ],
   "source": [
    "img = env.reset()\n",
    "#img = env.observation_space.sample(0)\n",
    "print(img.shape)\n",
    "imgplot = plt.imshow(img)"
   ]
  },
  {
   "cell_type": "markdown",
   "metadata": {},
   "source": [
    "Here we can see an example of how the game looks like. Every state is a (250,160,3) image where the last dimension is the RGB channel of the image.\n",
    "\n",
    "So, how about we try to run once at random and check how well we performed?"
   ]
  },
  {
   "cell_type": "code",
   "execution_count": 15,
   "metadata": {},
   "outputs": [
    {
     "data": {
      "image/png": "[encoded data removed]",
      "text/plain": [
       "<Figure size 432x288 with 1 Axes>"
      ]
     },
     "metadata": {},
     "output_type": "display_data"
    }
   ],
   "source": [
    "env.reset()\n",
    "img_list = []\n",
    "reward_list = []\n",
    "for _ in range(1000):\n",
    "    action = np.random.randint(0,3)\n",
    "    img, reward, done, _ = env.step(action)\n",
    "    img_list.append(img)\n",
    "    reward_list.append(reward)\n",
    "    if(done):\n",
    "        break"
   ]
  },
  {
   "cell_type": "code",
   "execution_count": null,
   "metadata": {},
   "outputs": [],
   "source": []
  }
 ],
 "metadata": {
  "kernelspec": {
   "display_name": "Python 3",
   "language": "python",
   "name": "python3"
  },
  "language_info": {
   "codemirror_mode": {
    "name": "ipython",
    "version": 3
   },
   "file_extension": ".py",
   "mimetype": "text/x-python",
   "name": "python",
   "nbconvert_exporter": "python",
   "pygments_lexer": "ipython3",
   "version": "3.6.6"
  }
 },
 "nbformat": 4,
 "nbformat_minor": 2
}
